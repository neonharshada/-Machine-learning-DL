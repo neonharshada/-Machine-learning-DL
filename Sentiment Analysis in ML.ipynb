{
 "cells": [
  {
   "cell_type": "code",
   "execution_count": null,
   "metadata": {
    "collapsed": true
   },
   "outputs": [],
   "source": [
    "import numpy as np\n",
    "import pandas as pd\n",
    "import matplotlib.pyplot as plt\n",
    "\n",
    "from textblob import TextBlob"
   ]
  },
  {
   "cell_type": "code",
   "execution_count": null,
   "metadata": {
    "collapsed": true
   },
   "outputs": [],
   "source": [
    "review = [\"It is a good scene.\", \n",
    "          \"What a bad product!\", \n",
    "          \"She is not doing good\",\n",
    "         \"Microsoft is lagging behind Google in many ways.\", \n",
    "          \"This movie is a must see. What amazing acting by Amitabh Bachhan!\"]"
   ]
  },
  {
   "cell_type": "code",
   "execution_count": null,
   "metadata": {},
   "outputs": [],
   "source": [
    "senti = TextBlob(review)\n",
    "print(\"Sentiment score : \" , round(senti.polarity,2), \n",
    "          \"Opinion score:\", round(senti.subjectivity,2), sep = \"\\n\")\n",
    "# polarity value is between -1 to 1\n",
    "# subjectivity value is between 0 to 1"
   ]
  },
  {
   "cell_type": "code",
   "execution_count": null,
   "metadata": {},
   "outputs": [],
   "source": [
    "for index, value in enumerate(review):\n",
    "    senti = TextBlob(value)\n",
    "    x= round(senti.polarity,2)\n",
    "    y = round(senti.subjectivity,2)\n",
    "    plt.scatter(x, y)\n",
    "    plt.text(x+0.01,y-0.01, index)\n",
    "plt.show()"
   ]
  },
  {
   "cell_type": "code",
   "execution_count": null,
   "metadata": {},
   "outputs": [],
   "source": [
    "from nltk.sentiment.util import *"
   ]
  },
  {
   "cell_type": "code",
   "execution_count": null,
   "metadata": {},
   "outputs": [],
   "source": [
    "text = \"It is a good scene.\"\n",
    "nltk.sentiment.util.demo_vader_instance(text)"
   ]
  },
  {
   "cell_type": "code",
   "execution_count": null,
   "metadata": {},
   "outputs": [],
   "source": [
    "for index, value in enumerate(review):\n",
    "    print(\"for index\", index, \":\")\n",
    "    nltk.sentiment.util.demo_vader_instance(value)"
   ]
  },
  {
   "cell_type": "code",
   "execution_count": null,
   "metadata": {},
   "outputs": [],
   "source": [
    "for index, value in enumerate(review):\n",
    "    print(\"for index\", index, \":\")\n",
    "    nltk.sentiment.util.demo_liu_hu_lexicon(value)"
   ]
  },
  {
   "cell_type": "code",
   "execution_count": null,
   "metadata": {
    "collapsed": true
   },
   "outputs": [],
   "source": []
  },
  {
   "cell_type": "code",
   "execution_count": null,
   "metadata": {
    "collapsed": true
   },
   "outputs": [],
   "source": []
  }
 ],
 "metadata": {
  "kernelspec": {
   "display_name": "Python 3",
   "language": "python",
   "name": "python3"
  },
  "language_info": {
   "codemirror_mode": {
    "name": "ipython",
    "version": 3
   },
   "file_extension": ".py",
   "mimetype": "text/x-python",
   "name": "python",
   "nbconvert_exporter": "python",
   "pygments_lexer": "ipython3",
   "version": "3.6.3"
  }
 },
 "nbformat": 4,
 "nbformat_minor": 2
}
