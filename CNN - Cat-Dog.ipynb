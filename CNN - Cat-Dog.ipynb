{
 "cells": [
  {
   "cell_type": "code",
   "execution_count": 8,
   "metadata": {
    "collapsed": true
   },
   "outputs": [],
   "source": [
    "import numpy as np\n",
    "import pandas as pd\n",
    "import matplotlib.pyplot as plt\n",
    "# Importing the Keras libraries and packages\n",
    "from tensorflow.keras.models import Sequential\n",
    "from tensorflow.keras.layers import Conv2D, MaxPooling2D, Flatten, Dense"
   ]
  },
  {
   "cell_type": "code",
   "execution_count": 1,
   "metadata": {
    "collapsed": true
   },
   "outputs": [],
   "source": [
    "from tensorflow.keras.preprocessing.image import ImageDataGenerator"
   ]
  },
  {
   "cell_type": "markdown",
   "metadata": {},
   "source": []
  },
  {
   "cell_type": "code",
   "execution_count": 6,
   "metadata": {
    "collapsed": true
   },
   "outputs": [],
   "source": [
    "# Generate batches of tensor image data with real-time data augmentation.\n",
    "datagen_train = ImageDataGenerator(rescale=1./255, \n",
    "                                                     rotation_range=30,\n",
    "                                                    horizontal_flip=True)\n",
    "# Generate batches of tensor image data with real-time data augmentation.\n",
    "datagen_test = ImageDataGenerator(rescale=1./255, \n",
    "                                                     rotation_range=30,\n",
    "                                                    horizontal_flip=True)"
   ]
  },
  {
   "cell_type": "code",
   "execution_count": 17,
   "metadata": {},
   "outputs": [
    {
     "name": "stdout",
     "output_type": "stream",
     "text": [
      "Found 200 images belonging to 2 classes.\n",
      "Found 60 images belonging to 2 classes.\n"
     ]
    }
   ],
   "source": [
    "training_set=datagen_train.flow_from_directory(r\"E:\\PythonCore\\datafiles\\SmallDataset\\training_set\", \n",
    "                                                target_size=(128,128), \n",
    "                                               batch_size=64,\n",
    "                                               class_mode = 'binary')\n",
    "test_set=datagen_test.flow_from_directory(r\"E:\\PythonCore\\datafiles\\SmallDataset\\test_set\", \n",
    "                                                target_size=(128,128), \n",
    "                                               batch_size=64,\n",
    "                                               class_mode = 'binary')\n",
    "# class_mode='categorical' if you have more than 2 classses"
   ]
  },
  {
   "cell_type": "code",
   "execution_count": 18,
   "metadata": {},
   "outputs": [
    {
     "name": "stdout",
     "output_type": "stream",
     "text": [
      "Model: \"sequential_3\"\n",
      "_________________________________________________________________\n",
      "Layer (type)                 Output Shape              Param #   \n",
      "=================================================================\n",
      "conv2d_10 (Conv2D)           (None, 126, 126, 32)      896       \n",
      "_________________________________________________________________\n",
      "max_pooling2d_10 (MaxPooling (None, 63, 63, 32)        0         \n",
      "_________________________________________________________________\n",
      "conv2d_11 (Conv2D)           (None, 61, 61, 64)        18496     \n",
      "_________________________________________________________________\n",
      "max_pooling2d_11 (MaxPooling (None, 30, 30, 64)        0         \n",
      "_________________________________________________________________\n",
      "conv2d_12 (Conv2D)           (None, 28, 28, 64)        36928     \n",
      "_________________________________________________________________\n",
      "max_pooling2d_12 (MaxPooling (None, 14, 14, 64)        0         \n",
      "_________________________________________________________________\n",
      "conv2d_13 (Conv2D)           (None, 12, 12, 128)       73856     \n",
      "_________________________________________________________________\n",
      "max_pooling2d_13 (MaxPooling (None, 6, 6, 128)         0         \n",
      "_________________________________________________________________\n",
      "flatten_3 (Flatten)          (None, 4608)              0         \n",
      "_________________________________________________________________\n",
      "dense_3 (Dense)              (None, 2)                 9218      \n",
      "=================================================================\n",
      "Total params: 139,394\n",
      "Trainable params: 139,394\n",
      "Non-trainable params: 0\n",
      "_________________________________________________________________\n"
     ]
    }
   ],
   "source": [
    "model = Sequential()\n",
    "model.add(Conv2D(filters = 32,\n",
    "                                 kernel_size = (3,3), \n",
    "                                 input_shape =(128,128,3)))\n",
    "model.add(MaxPooling2D(pool_size=(2,2)))\n",
    "model.add(Conv2D(filters=64,\n",
    "                 kernel_size = (3,3)))\n",
    "model.add(MaxPooling2D(pool_size=(2,2)))\n",
    "model.add(Conv2D(filters=64,\n",
    "                 kernel_size = (3,3)))\n",
    "model.add(MaxPooling2D(pool_size=(2,2)))\n",
    "model.add(Conv2D(filters=128,\n",
    "                 kernel_size = (3,3)))\n",
    "model.add(MaxPooling2D(pool_size=(2,2)))\n",
    "model.add(Flatten())\n",
    "model.add(Dense(2, activation='softmax'))\n",
    "model.compile(optimizer='adam', loss='sparse_categorical_crossentropy')\n",
    "model.summary()"
   ]
  },
  {
   "cell_type": "code",
   "execution_count": 19,
   "metadata": {},
   "outputs": [
    {
     "name": "stdout",
     "output_type": "stream",
     "text": [
      "Epoch 1/12\n",
      "4/4 [==============================] - 5s 1s/step - loss: 0.8068 - val_loss: 0.6952\n",
      "Epoch 2/12\n",
      "4/4 [==============================] - 5s 1s/step - loss: 0.7087 - val_loss: 0.7372\n",
      "Epoch 3/12\n",
      "4/4 [==============================] - 7s 2s/step - loss: 0.6969 - val_loss: 0.7072\n",
      "Epoch 4/12\n",
      "4/4 [==============================] - 5s 1s/step - loss: 0.6852 - val_loss: 0.6906\n",
      "Epoch 5/12\n",
      "4/4 [==============================] - 6s 1s/step - loss: 0.6757 - val_loss: 0.6759\n",
      "Epoch 6/12\n",
      "4/4 [==============================] - 5s 1s/step - loss: 0.6775 - val_loss: 0.6764\n",
      "Epoch 7/12\n",
      "4/4 [==============================] - 5s 1s/step - loss: 0.6439 - val_loss: 0.6750\n",
      "Epoch 8/12\n",
      "4/4 [==============================] - 5s 1s/step - loss: 0.6374 - val_loss: 0.7010\n",
      "Epoch 9/12\n",
      "4/4 [==============================] - 5s 1s/step - loss: 0.6325 - val_loss: 0.6986\n",
      "Epoch 10/12\n",
      "4/4 [==============================] - 5s 1s/step - loss: 0.5976 - val_loss: 0.6932\n",
      "Epoch 11/12\n",
      "4/4 [==============================] - 5s 1s/step - loss: 0.5923 - val_loss: 0.6823\n",
      "Epoch 12/12\n",
      "4/4 [==============================] - 5s 1s/step - loss: 0.5884 - val_loss: 0.7681\n"
     ]
    },
    {
     "data": {
      "text/plain": [
       "<tensorflow.python.keras.callbacks.History at 0x1411e1b9a58>"
      ]
     },
     "execution_count": 19,
     "metadata": {},
     "output_type": "execute_result"
    }
   ],
   "source": [
    "model.fit(training_set, batch_size=64, epochs=12, validation_data=test_set)"
   ]
  },
  {
   "cell_type": "code",
   "execution_count": 22,
   "metadata": {},
   "outputs": [],
   "source": [
    "from tensorflow.keras.preprocessing import image"
   ]
  },
  {
   "cell_type": "code",
   "execution_count": 37,
   "metadata": {},
   "outputs": [
    {
     "name": "stdout",
     "output_type": "stream",
     "text": [
      "<class 'PIL.Image.Image'>\n"
     ]
    }
   ],
   "source": [
    "test1 = image.load_img(r\"E:\\PythonCore\\datafiles\\SmallDataset\\single_prediction\\cat3.jpg\",\n",
    "                      target_size=(128,128))\n",
    "print(type(test1))"
   ]
  },
  {
   "cell_type": "code",
   "execution_count": 38,
   "metadata": {},
   "outputs": [
    {
     "name": "stdout",
     "output_type": "stream",
     "text": [
      "(128, 128, 3)\n"
     ]
    }
   ],
   "source": [
    "test1_arr = image.img_to_array(test1)\n",
    "print(test1_arr.shape)"
   ]
  },
  {
   "cell_type": "code",
   "execution_count": 39,
   "metadata": {},
   "outputs": [
    {
     "name": "stdout",
     "output_type": "stream",
     "text": [
      "(1, 128, 128, 3)\n"
     ]
    }
   ],
   "source": [
    "test1_arr = test1_arr/255.\n",
    "test1_arr = np.expand_dims(test1_arr, axis=0)\n",
    "print(test1_arr.shape)"
   ]
  },
  {
   "cell_type": "code",
   "execution_count": 40,
   "metadata": {},
   "outputs": [
    {
     "data": {
      "text/plain": [
       "array([[0.3522622 , 0.64773786]], dtype=float32)"
      ]
     },
     "execution_count": 40,
     "metadata": {},
     "output_type": "execute_result"
    }
   ],
   "source": [
    "model.predict(test1_arr)"
   ]
  },
  {
   "cell_type": "code",
   "execution_count": 36,
   "metadata": {
    "collapsed": true
   },
   "outputs": [],
   "source": [
    "from tensorflow.keras.models import save_model"
   ]
  },
  {
   "cell_type": "code",
   "execution_count": 41,
   "metadata": {
    "collapsed": true
   },
   "outputs": [],
   "source": [
    "save_model(model, 'mycatsdogs.h5')"
   ]
  },
  {
   "cell_type": "code",
   "execution_count": null,
   "metadata": {
    "collapsed": true
   },
   "outputs": [],
   "source": []
  },
  {
   "cell_type": "code",
   "execution_count": null,
   "metadata": {
    "collapsed": true
   },
   "outputs": [],
   "source": []
  },
  {
   "cell_type": "code",
   "execution_count": null,
   "metadata": {
    "collapsed": true
   },
   "outputs": [],
   "source": []
  }
 ],
 "metadata": {
  "kernelspec": {
   "display_name": "Python 3",
   "language": "python",
   "name": "python3"
  },
  "language_info": {
   "codemirror_mode": {
    "name": "ipython",
    "version": 3
   },
   "file_extension": ".py",
   "mimetype": "text/x-python",
   "name": "python",
   "nbconvert_exporter": "python",
   "pygments_lexer": "ipython3",
   "version": "3.6.3"
  }
 },
 "nbformat": 4,
 "nbformat_minor": 2
}
